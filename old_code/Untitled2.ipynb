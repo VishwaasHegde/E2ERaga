{
 "cells": [
  {
   "cell_type": "code",
   "execution_count": 2,
   "id": "historic-listing",
   "metadata": {},
   "outputs": [],
   "source": [
    "import tensorflow as tf\n",
    "import numpy as np\n",
    "import pandas as pd\n",
    "import math\n",
    "from scipy.spatial.distance import cdist\n",
    "import matplotlib.pyplot as plt\n",
    "from scipy import signal\n",
    "from sklearn.cluster import KMeans\n",
    "import matplotlib.pyplot as plt\n",
    "from tensorflow.keras.layers import Lambda, AvgPool1D\n",
    "import librosa\n",
    "import librosa.display\n",
    "from scipy.io import wavfile\n",
    "import pyhocon\n",
    "import h5py\n",
    "from PIL import Image\n",
    "from sklearn.neighbors import KNeighborsClassifier\n",
    "from tensorflow.keras.models import Model\n",
    "from tensorflow.keras.layers import Input"
   ]
  },
  {
   "cell_type": "code",
   "execution_count": 9,
   "id": "valid-pressure",
   "metadata": {},
   "outputs": [],
   "source": [
    "def freq_to_cents(freq, std=25):\n",
    "    frequency_reference = 10\n",
    "    c_true = 1200 * math.log(freq / frequency_reference, 2)\n",
    "\n",
    "    cents_mapping = np.linspace(0, 7180, 360) + 1997.3794084376191\n",
    "    target = np.exp(-(cents_mapping - c_true) ** 2 / (2 * std ** 2))\n",
    "    return target"
   ]
  },
  {
   "cell_type": "code",
   "execution_count": 5,
   "id": "signal-cookie",
   "metadata": {},
   "outputs": [],
   "source": [
    "key = '99dcaebe-ab49-4fa3-ab6c-a9458143af8e'\n",
    "# data = pd.read_csv('data/RagaDataset/pitches_orig/{}.tsv'.format(key))\n",
    "data = pd.read_csv('data/RagaDataset/pitches/{}.pitch'.format(key))"
   ]
  },
  {
   "cell_type": "code",
   "execution_count": 10,
   "id": "opposite-craps",
   "metadata": {},
   "outputs": [],
   "source": [
    "pitches = []\n",
    "for i in range(data.shape[0]):\n",
    "    pitches.append(freq_to_cents(data.iloc[i,0]))"
   ]
  },
  {
   "cell_type": "code",
   "execution_count": 11,
   "id": "loving-command",
   "metadata": {},
   "outputs": [],
   "source": [
    "pitches = np.array(pitches)"
   ]
  },
  {
   "cell_type": "code",
   "execution_count": 15,
   "id": "synthetic-overhead",
   "metadata": {},
   "outputs": [
    {
     "data": {
      "text/plain": [
       "[<matplotlib.lines.Line2D at 0x1d995b64748>]"
      ]
     },
     "execution_count": 15,
     "metadata": {},
     "output_type": "execute_result"
    },
    {
     "data": {
      "image/png": "[encoded data removed]",
      "text/plain": [
       "<Figure size 432x288 with 1 Axes>"
      ]
     },
     "metadata": {
      "needs_background": "light"
     },
     "output_type": "display_data"
    }
   ],
   "source": [
    "plt.plot(np.std(pitches, axis=0))"
   ]
  },
  {
   "cell_type": "code",
   "execution_count": 75,
   "id": "buried-stockholm",
   "metadata": {},
   "outputs": [
    {
     "name": "stdout",
     "output_type": "stream",
     "text": [
      "infile data/RagaDataset/pitches/00f54612-09f6-4528-91f1-95e5ef191c1b.pitch\n",
      "outfile 00f54612-09f6-4528-91f1-95e5ef191c1b.pitch.mid\n",
      "time_window 30.0\n",
      "activation_level 0.0\n",
      "condense False\n",
      "condense_max False\n",
      "transpose 0\n",
      "key []\n",
      "note_count 0\n",
      "progress <audio_to_midi.progress_bar.ProgressBar object at 0x0000020A9BE7AE80>\n",
      "bpm 100\n"
     ]
    },
    {
     "name": "stderr",
     "output_type": "stream",
     "text": [
      "<audio_to_midi.converter.Info object at 0x0000020AAC4197B8>\n",
      "window: 30.0 ms\n",
      "frequencies: min = 33.333333333333336 Hz, max = 8000.0 Hz\n",
      "\n",
      "/ |#                                                  | 0 Elapsed Time: 0:00:00\n",
      "- |#                                                  | 0 Elapsed Time: 0:00:00\n"
     ]
    }
   ],
   "source": [
    "!audio-to-midi data/RagaDataset/pitches/00f54612-09f6-4528-91f1-95e5ef191c1b.pitch -b 100 -t 30"
   ]
  },
  {
   "cell_type": "code",
   "execution_count": 31,
   "id": "retained-citizen",
   "metadata": {},
   "outputs": [],
   "source": [
    "d = {'a':3, 'b':4}"
   ]
  },
  {
   "cell_type": "code",
   "execution_count": 32,
   "id": "adult-white",
   "metadata": {},
   "outputs": [
    {
     "ename": "AttributeError",
     "evalue": "'dict' object has no attribute 'a'",
     "output_type": "error",
     "traceback": [
      "\u001b[1;31m---------------------------------------------------------------------------\u001b[0m",
      "\u001b[1;31mAttributeError\u001b[0m                            Traceback (most recent call last)",
      "\u001b[1;32m<ipython-input-32-e586b691db67>\u001b[0m in \u001b[0;36m<module>\u001b[1;34m\u001b[0m\n\u001b[1;32m----> 1\u001b[1;33m \u001b[0md\u001b[0m\u001b[1;33m.\u001b[0m\u001b[0ma\u001b[0m\u001b[1;33m\u001b[0m\u001b[1;33m\u001b[0m\u001b[0m\n\u001b[0m",
      "\u001b[1;31mAttributeError\u001b[0m: 'dict' object has no attribute 'a'"
     ]
    }
   ],
   "source": [
    "d.a"
   ]
  },
  {
   "cell_type": "code",
   "execution_count": 33,
   "id": "welsh-arbitration",
   "metadata": {},
   "outputs": [
    {
     "name": "stdout",
     "output_type": "stream",
     "text": [
      "infile data/sample_data/Bhup_25.wav\n",
      "outfile Bhup_25.wav.mid\n",
      "time_window 100.0\n",
      "activation_level 0.0\n",
      "condense False\n",
      "condense_max False\n",
      "transpose 0\n",
      "key [3]\n",
      "note_count 0\n",
      "progress <audio_to_midi.progress_bar.ProgressBar object at 0x00000208070FAEF0>\n",
      "bpm 100\n"
     ]
    },
    {
     "name": "stderr",
     "output_type": "stream",
     "text": [
      "'utf-8' codec can't decode byte 0x98 in position 5: invalid start byte\n",
      "Traceback (most recent call last):\n",
      "  File \"d:\\anaconda3\\envs\\env_tf2\\lib\\site-packages\\audio_to_midi\\main.py\", line 133, in main\n",
      "    bpm=args.bpm,\n",
      "  File \"d:\\anaconda3\\envs\\env_tf2\\lib\\site-packages\\audio_to_midi\\converter.py\", line 58, in __init__\n",
      "    self.info = Info(pd.read_csv(infile).shape[0])\n",
      "  File \"d:\\anaconda3\\envs\\env_tf2\\lib\\site-packages\\pandas\\io\\parsers.py\", line 686, in read_csv\n",
      "    return _read(filepath_or_buffer, kwds)\n",
      "  File \"d:\\anaconda3\\envs\\env_tf2\\lib\\site-packages\\pandas\\io\\parsers.py\", line 452, in _read\n",
      "    parser = TextFileReader(fp_or_buf, **kwds)\n",
      "  File \"d:\\anaconda3\\envs\\env_tf2\\lib\\site-packages\\pandas\\io\\parsers.py\", line 946, in __init__\n",
      "    self._make_engine(self.engine)\n",
      "  File \"d:\\anaconda3\\envs\\env_tf2\\lib\\site-packages\\pandas\\io\\parsers.py\", line 1178, in _make_engine\n",
      "    self._engine = CParserWrapper(self.f, **self.options)\n",
      "  File \"d:\\anaconda3\\envs\\env_tf2\\lib\\site-packages\\pandas\\io\\parsers.py\", line 2008, in __init__\n",
      "    self._reader = parsers.TextReader(src, **kwds)\n",
      "  File \"pandas\\_libs\\parsers.pyx\", line 537, in pandas._libs.parsers.TextReader.__cinit__\n",
      "  File \"pandas\\_libs\\parsers.pyx\", line 740, in pandas._libs.parsers.TextReader._get_header\n",
      "UnicodeDecodeError: 'utf-8' codec can't decode byte 0x98 in position 5: invalid start byte\n",
      "\n",
      "/ |#                                                  | 0 Elapsed Time: 0:00:00\n",
      "- |#                                                  | 0 Elapsed Time: 0:00:00\n"
     ]
    }
   ],
   "source": [
    "!audio-to-midi data/sample_data/Bhup_25.wav -b 100 -t 100 --key=3"
   ]
  },
  {
   "cell_type": "code",
   "execution_count": 29,
   "id": "recovered-morgan",
   "metadata": {},
   "outputs": [
    {
     "data": {
      "text/plain": [
       "<function numpy.zeros>"
      ]
     },
     "execution_count": 29,
     "metadata": {},
     "output_type": "execute_result"
    }
   ],
   "source": [
    "np.zeros"
   ]
  },
  {
   "cell_type": "code",
   "execution_count": 91,
   "id": "trained-clerk",
   "metadata": {},
   "outputs": [],
   "source": [
    "raw_data = []\n",
    "prev = None\n",
    "for i in range(data.shape[0]):\n",
    "    raw_data.extend(librosa.tone(data.iloc[i,0], duration=0.03, sr=16000))\n",
    "    raw_data.extend(librosa.tone(0, duration=0.03, sr=16000))\n",
    "#     break\n",
    "#     raw_data.extend(librosa.tone(0, duration=0.001, sr=16000))"
   ]
  },
  {
   "cell_type": "code",
   "execution_count": 86,
   "id": "visible-roulette",
   "metadata": {},
   "outputs": [
    {
     "data": {
      "text/plain": [
       "(480,)"
      ]
     },
     "execution_count": 86,
     "metadata": {},
     "output_type": "execute_result"
    }
   ],
   "source": [
    "np.array(raw_data).shape"
   ]
  },
  {
   "cell_type": "code",
   "execution_count": 68,
   "id": "compact-arcade",
   "metadata": {},
   "outputs": [],
   "source": [
    "def slide_min(arr1, arr2):\n",
    "    if arr2 is None:\n",
    "        return arr1\n",
    "    m=2\n",
    "    k=0\n",
    "    arr3=[]\n",
    "    for i in range(len(arr1)):\n",
    "        t = abs(arr1[-1]-arr2[i])\n",
    "        if t<m:\n",
    "            m=t\n",
    "            k=i\n",
    "#     print(k)\n",
    "    arr3 = np.concatenate([arr1, arr2[k:]])\n",
    "    \n",
    "    return arr3"
   ]
  },
  {
   "cell_type": "code",
   "execution_count": 92,
   "id": "lovely-numbers",
   "metadata": {},
   "outputs": [],
   "source": [
    "raw_data = np.array(raw_data)\n",
    "sm = 25\n",
    "a = np.sum(raw_data[0:sm])\n",
    "smoothed = [a]\n",
    "\n",
    "for i in range(0, len(raw_data)-sm):\n",
    "    a = a - raw_data[i] + raw_data[i+sm]\n",
    "    smoothed.append(a)\n",
    "smoothed = np.array(smoothed)/sm"
   ]
  },
  {
   "cell_type": "code",
   "execution_count": 79,
   "id": "running-combining",
   "metadata": {},
   "outputs": [],
   "source": []
  },
  {
   "cell_type": "code",
   "execution_count": 80,
   "id": "korean-orchestra",
   "metadata": {},
   "outputs": [
    {
     "data": {
      "text/plain": [
       "array([0.62002013, 0.63940295, 0.65815789, ..., 0.18940285, 0.18519607,\n",
       "       0.17353061])"
      ]
     },
     "execution_count": 80,
     "metadata": {},
     "output_type": "execute_result"
    }
   ],
   "source": [
    "smoothed"
   ]
  },
  {
   "cell_type": "code",
   "execution_count": 29,
   "id": "pretty-render",
   "metadata": {},
   "outputs": [],
   "source": [
    "raw_data = []\n",
    "for d in range(440, 500, 10):\n",
    "    raw_data.extend(librosa.tone(d, duration=2, sr=16000))"
   ]
  },
  {
   "cell_type": "code",
   "execution_count": 25,
   "id": "leading-economics",
   "metadata": {},
   "outputs": [],
   "source": [
    "def get_tod(val):\n",
    "    day = 'day'\n",
    "    morning = 'morning'\n",
    "    afternoon = 'afternoon'\n",
    "    evening = 'evening'\n",
    "    night = 'night'\n",
    "    \n",
    "    tod = [day]\n",
    "    tod_ind = [morning, afternoon, evening, night]\n",
    "    for t in range(3,-1,-1):\n",
    "        print(t)\n",
    "        for i in range(val,len(tod_ind)-t):\n",
    "            if t==0:\n",
    "                tod.append(tod_ind[i])\n",
    "            else:\n",
    "                tod.append(tod_ind[i]+'-'+tod_ind[i+t])\n",
    "#     tod = ['day', 'morning-evening', 'afternoon-night',\n",
    "#            'morning-afternoon', 'afternoon-evening', 'evening-night',\n",
    "#            'morning', 'afternoon', 'evening', 'night']\n",
    "#     elif val==1:\n",
    "#         tod = ['day', 'afternoon-night',\n",
    "#                'afternoon-evening', 'evening-night',\n",
    "#                 'afternoon', 'evening', 'night']\n",
    "#     elif val==2:\n",
    "#         tod = ['day', 'evening-night', 'evening', 'night']\n",
    "#     else:\n",
    "#         tod = ['day','night']\n",
    "\n",
    "    return tod"
   ]
  },
  {
   "cell_type": "code",
   "execution_count": 28,
   "id": "grateful-scratch",
   "metadata": {},
   "outputs": [
    {
     "name": "stdout",
     "output_type": "stream",
     "text": [
      "3\n",
      "2\n",
      "1\n",
      "0\n"
     ]
    },
    {
     "data": {
      "text/plain": [
       "['day', 'night']"
      ]
     },
     "execution_count": 28,
     "metadata": {},
     "output_type": "execute_result"
    }
   ],
   "source": [
    "get_tod(3)"
   ]
  }
 ],
 "metadata": {
  "kernelspec": {
   "display_name": "Python 3",
   "language": "python",
   "name": "python3"
  },
  "language_info": {
   "codemirror_mode": {
    "name": "ipython",
    "version": 3
   },
   "file_extension": ".py",
   "mimetype": "text/x-python",
   "name": "python",
   "nbconvert_exporter": "python",
   "pygments_lexer": "ipython3",
   "version": "3.6.9"
  }
 },
 "nbformat": 4,
 "nbformat_minor": 5
}
